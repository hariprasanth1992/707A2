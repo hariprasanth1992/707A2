{
 "cells": [
  {
   "cell_type": "code",
   "execution_count": 38,
   "id": "5d0b9698",
   "metadata": {},
   "outputs": [
    {
     "data": {
      "text/html": [
       "<div>\n",
       "<style scoped>\n",
       "    .dataframe tbody tr th:only-of-type {\n",
       "        vertical-align: middle;\n",
       "    }\n",
       "\n",
       "    .dataframe tbody tr th {\n",
       "        vertical-align: top;\n",
       "    }\n",
       "\n",
       "    .dataframe thead th {\n",
       "        text-align: right;\n",
       "    }\n",
       "</style>\n",
       "<table border=\"1\" class=\"dataframe\">\n",
       "  <thead>\n",
       "    <tr style=\"text-align: right;\">\n",
       "      <th></th>\n",
       "      <th>year</th>\n",
       "      <th>make</th>\n",
       "      <th>model</th>\n",
       "      <th>trim</th>\n",
       "      <th>body</th>\n",
       "      <th>transmission</th>\n",
       "      <th>vin</th>\n",
       "      <th>state</th>\n",
       "      <th>condition</th>\n",
       "      <th>odometer</th>\n",
       "      <th>color</th>\n",
       "      <th>interior</th>\n",
       "      <th>seller</th>\n",
       "      <th>mmr</th>\n",
       "      <th>sellingprice</th>\n",
       "      <th>saledate</th>\n",
       "    </tr>\n",
       "  </thead>\n",
       "  <tbody>\n",
       "    <tr>\n",
       "      <th>0</th>\n",
       "      <td>2015</td>\n",
       "      <td>Kia</td>\n",
       "      <td>Sorento</td>\n",
       "      <td>LX</td>\n",
       "      <td>SUV</td>\n",
       "      <td>automatic</td>\n",
       "      <td>5xyktca69fg566472</td>\n",
       "      <td>ca</td>\n",
       "      <td>5.0</td>\n",
       "      <td>16639.0</td>\n",
       "      <td>white</td>\n",
       "      <td>black</td>\n",
       "      <td>kia motors america  inc</td>\n",
       "      <td>20500.0</td>\n",
       "      <td>21500.0</td>\n",
       "      <td>Tue Dec 16 2014 12:30:00 GMT-0800 (PST)</td>\n",
       "    </tr>\n",
       "    <tr>\n",
       "      <th>1</th>\n",
       "      <td>2015</td>\n",
       "      <td>Kia</td>\n",
       "      <td>Sorento</td>\n",
       "      <td>LX</td>\n",
       "      <td>SUV</td>\n",
       "      <td>automatic</td>\n",
       "      <td>5xyktca69fg561319</td>\n",
       "      <td>ca</td>\n",
       "      <td>5.0</td>\n",
       "      <td>9393.0</td>\n",
       "      <td>white</td>\n",
       "      <td>beige</td>\n",
       "      <td>kia motors america  inc</td>\n",
       "      <td>20800.0</td>\n",
       "      <td>21500.0</td>\n",
       "      <td>Tue Dec 16 2014 12:30:00 GMT-0800 (PST)</td>\n",
       "    </tr>\n",
       "    <tr>\n",
       "      <th>2</th>\n",
       "      <td>2014</td>\n",
       "      <td>BMW</td>\n",
       "      <td>3 Series</td>\n",
       "      <td>328i SULEV</td>\n",
       "      <td>Sedan</td>\n",
       "      <td>automatic</td>\n",
       "      <td>wba3c1c51ek116351</td>\n",
       "      <td>ca</td>\n",
       "      <td>45.0</td>\n",
       "      <td>1331.0</td>\n",
       "      <td>gray</td>\n",
       "      <td>black</td>\n",
       "      <td>financial services remarketing (lease)</td>\n",
       "      <td>31900.0</td>\n",
       "      <td>30000.0</td>\n",
       "      <td>Thu Jan 15 2015 04:30:00 GMT-0800 (PST)</td>\n",
       "    </tr>\n",
       "    <tr>\n",
       "      <th>3</th>\n",
       "      <td>2015</td>\n",
       "      <td>Volvo</td>\n",
       "      <td>S60</td>\n",
       "      <td>T5</td>\n",
       "      <td>Sedan</td>\n",
       "      <td>automatic</td>\n",
       "      <td>yv1612tb4f1310987</td>\n",
       "      <td>ca</td>\n",
       "      <td>41.0</td>\n",
       "      <td>14282.0</td>\n",
       "      <td>white</td>\n",
       "      <td>black</td>\n",
       "      <td>volvo na rep/world omni</td>\n",
       "      <td>27500.0</td>\n",
       "      <td>27750.0</td>\n",
       "      <td>Thu Jan 29 2015 04:30:00 GMT-0800 (PST)</td>\n",
       "    </tr>\n",
       "    <tr>\n",
       "      <th>4</th>\n",
       "      <td>2014</td>\n",
       "      <td>BMW</td>\n",
       "      <td>6 Series Gran Coupe</td>\n",
       "      <td>650i</td>\n",
       "      <td>Sedan</td>\n",
       "      <td>automatic</td>\n",
       "      <td>wba6b2c57ed129731</td>\n",
       "      <td>ca</td>\n",
       "      <td>43.0</td>\n",
       "      <td>2641.0</td>\n",
       "      <td>gray</td>\n",
       "      <td>black</td>\n",
       "      <td>financial services remarketing (lease)</td>\n",
       "      <td>66000.0</td>\n",
       "      <td>67000.0</td>\n",
       "      <td>Thu Dec 18 2014 12:30:00 GMT-0800 (PST)</td>\n",
       "    </tr>\n",
       "  </tbody>\n",
       "</table>\n",
       "</div>"
      ],
      "text/plain": [
       "   year   make                model        trim   body transmission  \\\n",
       "0  2015    Kia              Sorento          LX    SUV    automatic   \n",
       "1  2015    Kia              Sorento          LX    SUV    automatic   \n",
       "2  2014    BMW             3 Series  328i SULEV  Sedan    automatic   \n",
       "3  2015  Volvo                  S60          T5  Sedan    automatic   \n",
       "4  2014    BMW  6 Series Gran Coupe        650i  Sedan    automatic   \n",
       "\n",
       "                 vin state  condition  odometer  color interior  \\\n",
       "0  5xyktca69fg566472    ca        5.0   16639.0  white    black   \n",
       "1  5xyktca69fg561319    ca        5.0    9393.0  white    beige   \n",
       "2  wba3c1c51ek116351    ca       45.0    1331.0   gray    black   \n",
       "3  yv1612tb4f1310987    ca       41.0   14282.0  white    black   \n",
       "4  wba6b2c57ed129731    ca       43.0    2641.0   gray    black   \n",
       "\n",
       "                                   seller      mmr  sellingprice  \\\n",
       "0                 kia motors america  inc  20500.0       21500.0   \n",
       "1                 kia motors america  inc  20800.0       21500.0   \n",
       "2  financial services remarketing (lease)  31900.0       30000.0   \n",
       "3                 volvo na rep/world omni  27500.0       27750.0   \n",
       "4  financial services remarketing (lease)  66000.0       67000.0   \n",
       "\n",
       "                                  saledate  \n",
       "0  Tue Dec 16 2014 12:30:00 GMT-0800 (PST)  \n",
       "1  Tue Dec 16 2014 12:30:00 GMT-0800 (PST)  \n",
       "2  Thu Jan 15 2015 04:30:00 GMT-0800 (PST)  \n",
       "3  Thu Jan 29 2015 04:30:00 GMT-0800 (PST)  \n",
       "4  Thu Dec 18 2014 12:30:00 GMT-0800 (PST)  "
      ]
     },
     "execution_count": 38,
     "metadata": {},
     "output_type": "execute_result"
    }
   ],
   "source": [
    "# Let's load and inspect the content of the provided CSV files to understand the dataset better\n",
    "# and to be able to craft a suitable scenario and documentation for Task 1, Section 1.\n",
    "\n",
    "import pandas as pd\n",
    "\n",
    "# Load the datasets\n",
    "car_prices = pd.read_csv(\"C:\\\\Users\\\\harip\\\\OneDrive\\\\Desktop\\\\Data analytics\\\\data engg\\\\assessment 2\\\\kaggle data\\\\car sales\\\\car_prices.csv\")\n",
    "\n",
    "# Display the first few rows of each dataset to understand their structure and content\n",
    "\n",
    "car_prices_head = car_prices.head()\n",
    "\n",
    "car_prices_head\n"
   ]
  },
  {
   "cell_type": "code",
   "execution_count": 35,
   "id": "3be00137",
   "metadata": {},
   "outputs": [
    {
     "name": "stdout",
     "output_type": "stream",
     "text": [
      "Index(['year', 'make', 'model', 'transmission', 'state', 'condition',\n",
      "       'odometer', 'color', 'interior', 'seller', 'mmr', 'sellingprice',\n",
      "       'mileage_category'],\n",
      "      dtype='object')\n"
     ]
    }
   ],
   "source": [
    "\n",
    "print(car_prices.columns)\n"
   ]
  },
  {
   "cell_type": "code",
   "execution_count": 9,
   "id": "35ae20f5",
   "metadata": {},
   "outputs": [],
   "source": [
    "car_prices['odometer'].fillna(car_prices['odometer'].median(), inplace=True)\n",
    "car_prices['mmr'].fillna(car_prices['mmr'].median(), inplace=True)\n",
    "car_prices['sellingprice'].fillna(car_prices['sellingprice'].median(), inplace=True)\n"
   ]
  },
  {
   "cell_type": "code",
   "execution_count": 10,
   "id": "b56009ac",
   "metadata": {},
   "outputs": [],
   "source": [
    "car_prices.drop_duplicates(inplace=True)\n"
   ]
  },
  {
   "cell_type": "code",
   "execution_count": 11,
   "id": "0af035d0",
   "metadata": {},
   "outputs": [],
   "source": [
    "car_prices['year'] = car_prices['year'].astype(str)\n"
   ]
  },
  {
   "cell_type": "code",
   "execution_count": 12,
   "id": "27b2a16c",
   "metadata": {},
   "outputs": [],
   "source": [
    "car_prices['mileage_category'] = pd.cut(car_prices['odometer'], bins=[0, 50000, 100000, float('Inf')], labels=['Low', 'Medium', 'High'])\n"
   ]
  },
  {
   "cell_type": "code",
   "execution_count": 13,
   "id": "728a8fcd",
   "metadata": {},
   "outputs": [
    {
     "name": "stdout",
     "output_type": "stream",
     "text": [
      "   year   make                model        trim   body transmission  \\\n",
      "0  2015    Kia              Sorento          LX    SUV    automatic   \n",
      "1  2015    Kia              Sorento          LX    SUV    automatic   \n",
      "2  2014    BMW             3 Series  328i SULEV  Sedan    automatic   \n",
      "3  2015  Volvo                  S60          T5  Sedan    automatic   \n",
      "4  2014    BMW  6 Series Gran Coupe        650i  Sedan    automatic   \n",
      "\n",
      "                 vin state  condition  odometer  color interior  \\\n",
      "0  5xyktca69fg566472    ca        5.0   16639.0  white    black   \n",
      "1  5xyktca69fg561319    ca        5.0    9393.0  white    beige   \n",
      "2  wba3c1c51ek116351    ca       45.0    1331.0   gray    black   \n",
      "3  yv1612tb4f1310987    ca       41.0   14282.0  white    black   \n",
      "4  wba6b2c57ed129731    ca       43.0    2641.0   gray    black   \n",
      "\n",
      "                                   seller      mmr  sellingprice  \\\n",
      "0                 kia motors america  inc  20500.0       21500.0   \n",
      "1                 kia motors america  inc  20800.0       21500.0   \n",
      "2  financial services remarketing (lease)  31900.0       30000.0   \n",
      "3                 volvo na rep/world omni  27500.0       27750.0   \n",
      "4  financial services remarketing (lease)  66000.0       67000.0   \n",
      "\n",
      "                                  saledate mileage_category  \n",
      "0  Tue Dec 16 2014 12:30:00 GMT-0800 (PST)              Low  \n",
      "1  Tue Dec 16 2014 12:30:00 GMT-0800 (PST)              Low  \n",
      "2  Thu Jan 15 2015 04:30:00 GMT-0800 (PST)              Low  \n",
      "3  Thu Jan 29 2015 04:30:00 GMT-0800 (PST)              Low  \n",
      "4  Thu Dec 18 2014 12:30:00 GMT-0800 (PST)              Low  \n"
     ]
    }
   ],
   "source": [
    "print(car_prices.head())\n"
   ]
  },
  {
   "cell_type": "code",
   "execution_count": 14,
   "id": "bac64711",
   "metadata": {},
   "outputs": [
    {
     "name": "stdout",
     "output_type": "stream",
     "text": [
      "year                    0\n",
      "make                10301\n",
      "model               10399\n",
      "trim                10651\n",
      "body                13195\n",
      "transmission        65352\n",
      "vin                     4\n",
      "state                   0\n",
      "condition           11820\n",
      "odometer                0\n",
      "color                 749\n",
      "interior              749\n",
      "seller                  0\n",
      "mmr                     0\n",
      "sellingprice            0\n",
      "saledate               12\n",
      "mileage_category        0\n",
      "dtype: int64\n"
     ]
    }
   ],
   "source": [
    "print(car_prices.isnull().sum())\n"
   ]
  },
  {
   "cell_type": "code",
   "execution_count": 15,
   "id": "d8f19f30",
   "metadata": {},
   "outputs": [
    {
     "name": "stdout",
     "output_type": "stream",
     "text": [
      "0\n"
     ]
    }
   ],
   "source": [
    "print(car_prices.duplicated().sum())  # Should be 0 if duplicates were successfully removed\n"
   ]
  },
  {
   "cell_type": "code",
   "execution_count": 16,
   "id": "01425573",
   "metadata": {},
   "outputs": [
    {
     "name": "stdout",
     "output_type": "stream",
     "text": [
      "year                  object\n",
      "make                  object\n",
      "model                 object\n",
      "trim                  object\n",
      "body                  object\n",
      "transmission          object\n",
      "vin                   object\n",
      "state                 object\n",
      "condition            float64\n",
      "odometer             float64\n",
      "color                 object\n",
      "interior              object\n",
      "seller                object\n",
      "mmr                  float64\n",
      "sellingprice         float64\n",
      "saledate              object\n",
      "mileage_category    category\n",
      "dtype: object\n"
     ]
    }
   ],
   "source": [
    "print(car_prices.dtypes)\n"
   ]
  },
  {
   "cell_type": "code",
   "execution_count": 17,
   "id": "48574275",
   "metadata": {},
   "outputs": [
    {
     "name": "stdout",
     "output_type": "stream",
     "text": [
      "           condition       odometer            mmr   sellingprice\n",
      "count  547017.000000  558837.000000  558837.000000  558837.000000\n",
      "mean       30.672365   68317.315359   13769.274180   13611.326356\n",
      "std        13.402832   53394.458135    9679.646165    9749.399466\n",
      "min         1.000000       1.000000      25.000000       1.000000\n",
      "25%        23.000000   28375.000000    7100.000000    6900.000000\n",
      "50%        35.000000   52254.000000   12250.000000   12100.000000\n",
      "75%        42.000000   99103.000000   18300.000000   18200.000000\n",
      "max        49.000000  999999.000000  182000.000000  230000.000000\n"
     ]
    }
   ],
   "source": [
    "print(car_prices.describe())\n"
   ]
  },
  {
   "cell_type": "code",
   "execution_count": 20,
   "id": "d973c89a",
   "metadata": {},
   "outputs": [
    {
     "name": "stdout",
     "output_type": "stream",
     "text": [
      "year                    0\n",
      "make                    0\n",
      "model                   0\n",
      "transmission        63585\n",
      "state                   0\n",
      "condition               0\n",
      "odometer                0\n",
      "color                   0\n",
      "interior                0\n",
      "seller                  0\n",
      "mmr                     0\n",
      "sellingprice            0\n",
      "mileage_category        0\n",
      "dtype: int64\n",
      "year                  object\n",
      "make                  object\n",
      "model                 object\n",
      "transmission          object\n",
      "state                 object\n",
      "condition            float64\n",
      "odometer             float64\n",
      "color                 object\n",
      "interior              object\n",
      "seller                object\n",
      "mmr                  float64\n",
      "sellingprice         float64\n",
      "mileage_category    category\n",
      "dtype: object\n",
      "   year   make                model transmission state  condition  odometer  \\\n",
      "0  2015    Kia              Sorento    automatic    ca        5.0   16639.0   \n",
      "1  2015    Kia              Sorento    automatic    ca        5.0    9393.0   \n",
      "2  2014    BMW             3 Series    automatic    ca       45.0    1331.0   \n",
      "3  2015  Volvo                  S60    automatic    ca       41.0   14282.0   \n",
      "4  2014    BMW  6 Series Gran Coupe    automatic    ca       43.0    2641.0   \n",
      "\n",
      "   color interior                                  seller      mmr  \\\n",
      "0  white    black                 kia motors america  inc  20500.0   \n",
      "1  white    beige                 kia motors america  inc  20800.0   \n",
      "2   gray    black  financial services remarketing (lease)  31900.0   \n",
      "3  white    black                 volvo na rep/world omni  27500.0   \n",
      "4   gray    black  financial services remarketing (lease)  66000.0   \n",
      "\n",
      "   sellingprice mileage_category  \n",
      "0       21500.0              Low  \n",
      "1       21500.0              Low  \n",
      "2       30000.0              Low  \n",
      "3       27750.0              Low  \n",
      "4       67000.0              Low  \n"
     ]
    }
   ],
   "source": [
    "import pandas as pd\n",
    "\n",
    "# Assuming car_prices.csv is already loaded into car_prices DataFrame\n",
    "# If not loaded, uncomment the next line to load it\n",
    "# car_prices = pd.read_csv('path/to/car_prices.csv')\n",
    "\n",
    "# Remove unwanted columns\n",
    "car_prices.drop(['vin', 'trim', 'body', 'saledate'], axis=1, inplace=True, errors='ignore')\n",
    "\n",
    "# Handle missing values\n",
    "# For 'condition', 'odometer', 'mmr', and 'sellingprice', fill missing values with the median of the column\n",
    "numerical_columns = ['condition', 'odometer', 'mmr', 'sellingprice']\n",
    "car_prices[numerical_columns] = car_prices[numerical_columns].fillna(car_prices[numerical_columns].median())\n",
    "\n",
    "# For categorical columns like 'make', 'model', 'color', 'interior', fill missing values with 'Unknown'\n",
    "categorical_columns = ['make', 'model', 'color', 'interior']\n",
    "car_prices[categorical_columns] = car_prices[categorical_columns].fillna('Unknown')\n",
    "\n",
    "# Convert 'year' to a categorical type\n",
    "car_prices['year'] = car_prices['year'].astype(str)\n",
    "\n",
    "# Remove duplicates\n",
    "car_prices.drop_duplicates(inplace=True)\n",
    "\n",
    "# Check for missing values and data types after cleaning\n",
    "print(car_prices.isnull().sum())\n",
    "print(car_prices.dtypes)\n",
    "\n",
    "# Preview the cleaned DataFrame\n",
    "print(car_prices.head())\n"
   ]
  },
  {
   "cell_type": "code",
   "execution_count": 21,
   "id": "48ffe100",
   "metadata": {},
   "outputs": [],
   "source": [
    "car_prices['transmission'].fillna('Unknown', inplace=True)\n"
   ]
  },
  {
   "cell_type": "code",
   "execution_count": 22,
   "id": "4f49da7a",
   "metadata": {},
   "outputs": [
    {
     "name": "stdout",
     "output_type": "stream",
     "text": [
      "year                   int32\n",
      "make                category\n",
      "model               category\n",
      "transmission        category\n",
      "state               category\n",
      "condition            float64\n",
      "odometer             float64\n",
      "color               category\n",
      "interior            category\n",
      "seller              category\n",
      "mmr                  float64\n",
      "sellingprice         float64\n",
      "mileage_category    category\n",
      "dtype: object\n"
     ]
    }
   ],
   "source": [
    "# Assuming car_prices DataFrame is already defined and cleaned\n",
    "\n",
    "# Convert 'year' from object to int64, as years are inherently numerical\n",
    "# However, if 'year' is being used categorically and no arithmetic operations are needed, it can remain as object or be converted to 'category'\n",
    "car_prices['year'] = car_prices['year'].astype(int)\n",
    "\n",
    "# 'make', 'model', 'transmission', 'state', 'color', 'interior', 'seller' can remain as 'object' \n",
    "# if text operations are needed or converted to 'category' for efficiency if used for grouping or categorical analysis\n",
    "categorical_columns = ['make', 'model', 'transmission', 'state', 'color', 'interior', 'seller']\n",
    "for column in categorical_columns:\n",
    "    car_prices[column] = car_prices[column].astype('category')\n",
    "\n",
    "# 'condition', 'odometer', 'mmr', and 'sellingprice' are correctly set as float64 if they contain decimal values\n",
    "# No changes needed unless you have a specific requirement to alter their precision\n",
    "\n",
    "# 'mileage_category' is correctly set as 'category'\n",
    "# No changes needed since it represents categorical data\n",
    "\n",
    "# After adjustments, check the updated data types\n",
    "print(car_prices.dtypes)\n"
   ]
  },
  {
   "cell_type": "code",
   "execution_count": 28,
   "id": "af18e165",
   "metadata": {},
   "outputs": [],
   "source": [
    "# Replace the path with the actual path to your loan data CSV\n",
    "loan_data = pd.read_csv(\"C:\\\\Users\\\\harip\\\\OneDrive\\\\Desktop\\\\Data analytics\\\\data engg\\\\assessment 2\\\\kaggle data\\\\cleaned_data\\loan\\\\loantest.csv\")\n"
   ]
  },
  {
   "cell_type": "code",
   "execution_count": 29,
   "id": "1b9c614a",
   "metadata": {},
   "outputs": [
    {
     "name": "stdout",
     "output_type": "stream",
     "text": [
      "Index(['UniqueID', 'disbursed_amount', 'asset_cost', 'ltv', 'branch_id',\n",
      "       'supplier_id', 'manufacturer_id', 'Current_pincode_ID', 'Date.of.Birth',\n",
      "       'Employment.Type', 'DisbursalDate', 'State_ID', 'Employee_code_ID',\n",
      "       'MobileNo_Avl_Flag', 'Aadhar_flag', 'PAN_flag', 'VoterID_flag',\n",
      "       'Driving_flag', 'Passport_flag', 'PERFORM_CNS.SCORE',\n",
      "       'PERFORM_CNS.SCORE.DESCRIPTION', 'PRI.NO.OF.ACCTS', 'PRI.ACTIVE.ACCTS',\n",
      "       'PRI.OVERDUE.ACCTS', 'PRI.CURRENT.BALANCE', 'PRI.SANCTIONED.AMOUNT',\n",
      "       'PRI.DISBURSED.AMOUNT', 'SEC.NO.OF.ACCTS', 'SEC.ACTIVE.ACCTS',\n",
      "       'SEC.OVERDUE.ACCTS', 'SEC.CURRENT.BALANCE', 'SEC.SANCTIONED.AMOUNT',\n",
      "       'SEC.DISBURSED.AMOUNT', 'PRIMARY.INSTAL.AMT', 'SEC.INSTAL.AMT',\n",
      "       'NEW.ACCTS.IN.LAST.SIX.MONTHS', 'DELINQUENT.ACCTS.IN.LAST.SIX.MONTHS',\n",
      "       'AVERAGE.ACCT.AGE', 'CREDIT.HISTORY.LENGTH', 'NO.OF_INQUIRIES'],\n",
      "      dtype='object')\n"
     ]
    }
   ],
   "source": [
    "print(loan_data.columns)\n"
   ]
  },
  {
   "cell_type": "code",
   "execution_count": 30,
   "id": "734f08be",
   "metadata": {},
   "outputs": [],
   "source": [
    "# Hypothetical removal of columns deemed unnecessary for analysis\n",
    "loan_data.drop(['branch_id', 'supplier_id', 'Current_pincode_ID', 'State_ID', 'Employee_code_ID',\n",
    "                'MobileNo_Avl_Flag', 'Aadhar_flag', 'PAN_flag', 'VoterID_flag', 'Driving_flag', 'Passport_flag'],\n",
    "               axis=1, inplace=True, errors='ignore')\n"
   ]
  },
  {
   "cell_type": "code",
   "execution_count": 31,
   "id": "431504a3",
   "metadata": {},
   "outputs": [
    {
     "name": "stderr",
     "output_type": "stream",
     "text": [
      "C:\\Users\\harip\\AppData\\Local\\Temp\\ipykernel_17832\\279205328.py:2: UserWarning: Could not infer format, so each element will be parsed individually, falling back to `dateutil`. To ensure parsing is consistent and as-expected, please specify a format.\n",
      "  loan_data['Date.of.Birth'] = pd.to_datetime(loan_data['Date.of.Birth'], errors='coerce')\n",
      "C:\\Users\\harip\\AppData\\Local\\Temp\\ipykernel_17832\\279205328.py:3: UserWarning: Could not infer format, so each element will be parsed individually, falling back to `dateutil`. To ensure parsing is consistent and as-expected, please specify a format.\n",
      "  loan_data['DisbursalDate'] = pd.to_datetime(loan_data['DisbursalDate'], errors='coerce')\n"
     ]
    }
   ],
   "source": [
    "# Convert date columns from string to datetime\n",
    "loan_data['Date.of.Birth'] = pd.to_datetime(loan_data['Date.of.Birth'], errors='coerce')\n",
    "loan_data['DisbursalDate'] = pd.to_datetime(loan_data['DisbursalDate'], errors='coerce')\n",
    "\n",
    "# Convert categorical data columns to category data type\n",
    "loan_data['Employment.Type'] = loan_data['Employment.Type'].astype('category')\n"
   ]
  },
  {
   "cell_type": "code",
   "execution_count": 33,
   "id": "e5e0968e",
   "metadata": {},
   "outputs": [],
   "source": [
    "# First, add 'Unknown' to the categories if it's not already there\n",
    "if 'Unknown' not in loan_data['Employment.Type'].cat.categories:\n",
    "    loan_data['Employment.Type'] = loan_data['Employment.Type'].cat.add_categories('Unknown')\n",
    "\n",
    "# Now, you can safely fill missing values with 'Unknown'\n",
    "loan_data['Employment.Type'].fillna('Unknown', inplace=True)\n"
   ]
  },
  {
   "cell_type": "code",
   "execution_count": 34,
   "id": "c49079d2",
   "metadata": {},
   "outputs": [
    {
     "name": "stdout",
     "output_type": "stream",
     "text": [
      "UniqueID                               0\n",
      "disbursed_amount                       0\n",
      "asset_cost                             0\n",
      "ltv                                    0\n",
      "manufacturer_id                        0\n",
      "Date.of.Birth                          0\n",
      "Employment.Type                        0\n",
      "DisbursalDate                          0\n",
      "PERFORM_CNS.SCORE                      0\n",
      "PERFORM_CNS.SCORE.DESCRIPTION          0\n",
      "PRI.NO.OF.ACCTS                        0\n",
      "PRI.ACTIVE.ACCTS                       0\n",
      "PRI.OVERDUE.ACCTS                      0\n",
      "PRI.CURRENT.BALANCE                    0\n",
      "PRI.SANCTIONED.AMOUNT                  0\n",
      "PRI.DISBURSED.AMOUNT                   0\n",
      "SEC.NO.OF.ACCTS                        0\n",
      "SEC.ACTIVE.ACCTS                       0\n",
      "SEC.OVERDUE.ACCTS                      0\n",
      "SEC.CURRENT.BALANCE                    0\n",
      "SEC.SANCTIONED.AMOUNT                  0\n",
      "SEC.DISBURSED.AMOUNT                   0\n",
      "PRIMARY.INSTAL.AMT                     0\n",
      "SEC.INSTAL.AMT                         0\n",
      "NEW.ACCTS.IN.LAST.SIX.MONTHS           0\n",
      "DELINQUENT.ACCTS.IN.LAST.SIX.MONTHS    0\n",
      "AVERAGE.ACCT.AGE                       0\n",
      "CREDIT.HISTORY.LENGTH                  0\n",
      "NO.OF_INQUIRIES                        0\n",
      "dtype: int64\n"
     ]
    }
   ],
   "source": [
    "print(loan_data.isnull().sum())\n"
   ]
  },
  {
   "cell_type": "code",
   "execution_count": 41,
   "id": "385af53a",
   "metadata": {},
   "outputs": [],
   "source": [
    "# Saving cleaned car_prices dataset to a Parquet file\n",
    "car_prices.to_parquet(\"C:\\\\Users\\\\harip\\\\OneDrive\\\\Desktop\\\\Data analytics\\\\data engg\\\\assessment 2\\\\kaggle data\\\\cleaned_data\\\\cleaned_car_prices_v1.parquet\", index=False)\n",
    "\n",
    "# Saving cleaned loan_data dataset to a Parquet file\n",
    "\n",
    "loan_data.to_parquet(\"C:\\\\Users\\\\harip\\\\OneDrive\\\\Desktop\\\\Data analytics\\\\data engg\\\\assessment 2\\\\kaggle data\\\\cleaned_data\\\\cleaned_loan_data_v1.parquet\", index=False)\n"
   ]
  },
  {
   "cell_type": "code",
   "execution_count": 44,
   "id": "1fb579c4",
   "metadata": {},
   "outputs": [],
   "source": [
    "# Assigning the cleaned data to specifically named data frames\n",
    "cleaned_car_prices = car_prices.copy()\n",
    "cleaned_loan_data = loan_data.copy()\n",
    "\n",
    "# Define the file paths for saving\n",
    "cleaned_car_prices_parquet_path = \"C:\\\\Users\\\\harip\\\\OneDrive\\\\Desktop\\\\Data analytics\\\\data engg\\\\assessment 2\\\\kaggle data\\\\cleaned_data\\\\cleaned_car_prices_v1.parquet\"\n",
    "cleaned_loan_data_parquet_path = \"C:\\\\Users\\\\harip\\\\OneDrive\\\\Desktop\\\\Data analytics\\\\data engg\\\\assessment 2\\\\kaggle data\\\\cleaned_data\\\\cleaned_loan_data_v1.parquet\"\n",
    "\n",
    "# Save the cleaned data frames as Parquet files\n",
    "cleaned_car_prices.to_parquet(\"C:\\\\Users\\\\harip\\\\OneDrive\\\\Desktop\\\\Data analytics\\\\data engg\\\\assessment 2\\\\kaggle data\\\\cleaned_data\\\\cleaned_car_prices_v1.parquet\", index=False)\n",
    "cleaned_loan_data.to_parquet(\"C:\\\\Users\\\\harip\\\\OneDrive\\\\Desktop\\\\Data analytics\\\\data engg\\\\assessment 2\\\\kaggle data\\\\cleaned_data\\\\cleaned_loan_data_v1.parquet\", index=False)\n"
   ]
  },
  {
   "cell_type": "code",
   "execution_count": 45,
   "id": "bd0a0158",
   "metadata": {},
   "outputs": [
    {
     "data": {
      "text/plain": [
       "('C:\\\\Users\\\\harip\\\\OneDrive\\\\Desktop\\\\Data analytics\\\\data engg\\\\assessment 2\\\\kaggle data\\\\cleaned_data\\\\cleaned_car_prices_v2.csv',\n",
       " 'C:\\\\Users\\\\harip\\\\OneDrive\\\\Desktop\\\\Data analytics\\\\data engg\\\\assessment 2\\\\kaggle data\\\\cleaned_data\\\\cleaned_loan_data_v2.csv')"
      ]
     },
     "execution_count": 45,
     "metadata": {},
     "output_type": "execute_result"
    }
   ],
   "source": [
    "# Save the cleaned car_prices dataset to a CSV file with a specific name\n",
    "cleaned_car_prices_csv_path = \"C:\\\\Users\\\\harip\\\\OneDrive\\\\Desktop\\\\Data analytics\\\\data engg\\\\assessment 2\\\\kaggle data\\\\cleaned_data\\\\cleaned_car_prices_v2.csv\"\n",
    "cleaned_car_prices.to_csv(cleaned_car_prices_csv_path, index=False)\n",
    "\n",
    "# Save the cleaned loan_data dataset to a CSV file with a specific name\n",
    "cleaned_loan_data_csv_path = \"C:\\\\Users\\\\harip\\\\OneDrive\\\\Desktop\\\\Data analytics\\\\data engg\\\\assessment 2\\\\kaggle data\\\\cleaned_data\\\\cleaned_loan_data_v2.csv\"\n",
    "cleaned_loan_data.to_csv(cleaned_loan_data_csv_path, index=False)\n",
    "\n",
    "# Provide the paths for downloading the cleaned datasets in CSV format\n",
    "cleaned_car_prices_csv_path, cleaned_loan_data_csv_path\n"
   ]
  },
  {
   "cell_type": "code",
   "execution_count": 46,
   "id": "5d7bc5f8",
   "metadata": {},
   "outputs": [
    {
     "name": "stdout",
     "output_type": "stream",
     "text": [
      "year                0\n",
      "make            10301\n",
      "model           10399\n",
      "trim            10651\n",
      "body            13195\n",
      "transmission    65352\n",
      "vin                 4\n",
      "state               0\n",
      "condition       11820\n",
      "odometer           94\n",
      "color             749\n",
      "interior          749\n",
      "seller              0\n",
      "mmr                38\n",
      "sellingprice       12\n",
      "saledate           12\n",
      "dtype: int64\n",
      "UniqueID                               0\n",
      "disbursed_amount                       0\n",
      "asset_cost                             0\n",
      "ltv                                    0\n",
      "manufacturer_id                        0\n",
      "Date.of.Birth                          0\n",
      "Employment.Type                        0\n",
      "DisbursalDate                          0\n",
      "PERFORM_CNS.SCORE                      0\n",
      "PERFORM_CNS.SCORE.DESCRIPTION          0\n",
      "PRI.NO.OF.ACCTS                        0\n",
      "PRI.ACTIVE.ACCTS                       0\n",
      "PRI.OVERDUE.ACCTS                      0\n",
      "PRI.CURRENT.BALANCE                    0\n",
      "PRI.SANCTIONED.AMOUNT                  0\n",
      "PRI.DISBURSED.AMOUNT                   0\n",
      "SEC.NO.OF.ACCTS                        0\n",
      "SEC.ACTIVE.ACCTS                       0\n",
      "SEC.OVERDUE.ACCTS                      0\n",
      "SEC.CURRENT.BALANCE                    0\n",
      "SEC.SANCTIONED.AMOUNT                  0\n",
      "SEC.DISBURSED.AMOUNT                   0\n",
      "PRIMARY.INSTAL.AMT                     0\n",
      "SEC.INSTAL.AMT                         0\n",
      "NEW.ACCTS.IN.LAST.SIX.MONTHS           0\n",
      "DELINQUENT.ACCTS.IN.LAST.SIX.MONTHS    0\n",
      "AVERAGE.ACCT.AGE                       0\n",
      "CREDIT.HISTORY.LENGTH                  0\n",
      "NO.OF_INQUIRIES                        0\n",
      "dtype: int64\n",
      "year              int64\n",
      "make             object\n",
      "model            object\n",
      "trim             object\n",
      "body             object\n",
      "transmission     object\n",
      "vin              object\n",
      "state            object\n",
      "condition       float64\n",
      "odometer        float64\n",
      "color            object\n",
      "interior         object\n",
      "seller           object\n",
      "mmr             float64\n",
      "sellingprice    float64\n",
      "saledate         object\n",
      "dtype: object\n",
      "UniqueID                                 int64\n",
      "disbursed_amount                         int64\n",
      "asset_cost                               int64\n",
      "ltv                                    float64\n",
      "manufacturer_id                          int64\n",
      "Date.of.Birth                           object\n",
      "Employment.Type                         object\n",
      "DisbursalDate                           object\n",
      "PERFORM_CNS.SCORE                        int64\n",
      "PERFORM_CNS.SCORE.DESCRIPTION           object\n",
      "PRI.NO.OF.ACCTS                          int64\n",
      "PRI.ACTIVE.ACCTS                         int64\n",
      "PRI.OVERDUE.ACCTS                        int64\n",
      "PRI.CURRENT.BALANCE                      int64\n",
      "PRI.SANCTIONED.AMOUNT                    int64\n",
      "PRI.DISBURSED.AMOUNT                     int64\n",
      "SEC.NO.OF.ACCTS                          int64\n",
      "SEC.ACTIVE.ACCTS                         int64\n",
      "SEC.OVERDUE.ACCTS                        int64\n",
      "SEC.CURRENT.BALANCE                      int64\n",
      "SEC.SANCTIONED.AMOUNT                    int64\n",
      "SEC.DISBURSED.AMOUNT                     int64\n",
      "PRIMARY.INSTAL.AMT                       int64\n",
      "SEC.INSTAL.AMT                           int64\n",
      "NEW.ACCTS.IN.LAST.SIX.MONTHS             int64\n",
      "DELINQUENT.ACCTS.IN.LAST.SIX.MONTHS      int64\n",
      "AVERAGE.ACCT.AGE                        object\n",
      "CREDIT.HISTORY.LENGTH                   object\n",
      "NO.OF_INQUIRIES                          int64\n",
      "dtype: object\n"
     ]
    }
   ],
   "source": [
    "import pandas as pd\n",
    "\n",
    "# Load the cleaned datasets from the uploaded files\n",
    "cleaned_car_prices = pd.read_csv(\"C:\\\\Users\\\\harip\\\\OneDrive\\\\Desktop\\\\Data analytics\\\\data engg\\\\assessment 2\\\\kaggle data\\\\cleaned_data\\\\cleaned_car_prices_v2.csv\")\n",
    "cleaned_loan_data = pd.read_csv(\"C:\\\\Users\\\\harip\\\\OneDrive\\\\Desktop\\\\Data analytics\\\\data engg\\\\assessment 2\\\\kaggle data\\\\cleaned_data\\\\cleaned_loan_data_v2.csv\")\n",
    "\n",
    "# Verify the cleaning by checking for missing values and inspecting data types\n",
    "print(cleaned_car_prices.isnull().sum())\n",
    "print(cleaned_loan_data.isnull().sum())\n",
    "print(cleaned_car_prices.dtypes)\n",
    "print(cleaned_loan_data.dtypes)\n",
    "\n",
    "# Further actions based on verification results\n"
   ]
  },
  {
   "cell_type": "code",
   "execution_count": 47,
   "id": "e7bfc3de",
   "metadata": {},
   "outputs": [
    {
     "name": "stdout",
     "output_type": "stream",
     "text": [
      "<class 'pandas.core.frame.DataFrame'>\n",
      "RangeIndex: 558837 entries, 0 to 558836\n",
      "Data columns (total 16 columns):\n",
      " #   Column        Non-Null Count   Dtype   \n",
      "---  ------        --------------   -----   \n",
      " 0   year          558837 non-null  int64   \n",
      " 1   make          558837 non-null  category\n",
      " 2   model         548438 non-null  category\n",
      " 3   trim          548186 non-null  object  \n",
      " 4   body          545642 non-null  object  \n",
      " 5   transmission  558837 non-null  category\n",
      " 6   vin           558833 non-null  object  \n",
      " 7   state         558837 non-null  category\n",
      " 8   condition     558837 non-null  float64 \n",
      " 9   odometer      558743 non-null  float64 \n",
      " 10  color         558088 non-null  category\n",
      " 11  interior      558088 non-null  category\n",
      " 12  seller        558837 non-null  object  \n",
      " 13  mmr           558799 non-null  float64 \n",
      " 14  sellingprice  558825 non-null  float64 \n",
      " 15  saledate      558825 non-null  object  \n",
      "dtypes: category(6), float64(4), int64(1), object(5)\n",
      "memory usage: 46.4+ MB\n",
      "None\n",
      "<class 'pandas.core.frame.DataFrame'>\n",
      "RangeIndex: 112392 entries, 0 to 112391\n",
      "Data columns (total 29 columns):\n",
      " #   Column                               Non-Null Count   Dtype         \n",
      "---  ------                               --------------   -----         \n",
      " 0   UniqueID                             112392 non-null  int64         \n",
      " 1   disbursed_amount                     112392 non-null  int64         \n",
      " 2   asset_cost                           112392 non-null  int64         \n",
      " 3   ltv                                  112392 non-null  float64       \n",
      " 4   manufacturer_id                      112392 non-null  int64         \n",
      " 5   Date.of.Birth                        112392 non-null  datetime64[ns]\n",
      " 6   Employment.Type                      112392 non-null  category      \n",
      " 7   DisbursalDate                        112392 non-null  datetime64[ns]\n",
      " 8   PERFORM_CNS.SCORE                    112392 non-null  int64         \n",
      " 9   PERFORM_CNS.SCORE.DESCRIPTION        112392 non-null  object        \n",
      " 10  PRI.NO.OF.ACCTS                      112392 non-null  int64         \n",
      " 11  PRI.ACTIVE.ACCTS                     112392 non-null  int64         \n",
      " 12  PRI.OVERDUE.ACCTS                    112392 non-null  int64         \n",
      " 13  PRI.CURRENT.BALANCE                  112392 non-null  int64         \n",
      " 14  PRI.SANCTIONED.AMOUNT                112392 non-null  int64         \n",
      " 15  PRI.DISBURSED.AMOUNT                 112392 non-null  int64         \n",
      " 16  SEC.NO.OF.ACCTS                      112392 non-null  int64         \n",
      " 17  SEC.ACTIVE.ACCTS                     112392 non-null  int64         \n",
      " 18  SEC.OVERDUE.ACCTS                    112392 non-null  int64         \n",
      " 19  SEC.CURRENT.BALANCE                  112392 non-null  int64         \n",
      " 20  SEC.SANCTIONED.AMOUNT                112392 non-null  int64         \n",
      " 21  SEC.DISBURSED.AMOUNT                 112392 non-null  int64         \n",
      " 22  PRIMARY.INSTAL.AMT                   112392 non-null  int64         \n",
      " 23  SEC.INSTAL.AMT                       112392 non-null  int64         \n",
      " 24  NEW.ACCTS.IN.LAST.SIX.MONTHS         112392 non-null  int64         \n",
      " 25  DELINQUENT.ACCTS.IN.LAST.SIX.MONTHS  112392 non-null  int64         \n",
      " 26  AVERAGE.ACCT.AGE                     112392 non-null  object        \n",
      " 27  CREDIT.HISTORY.LENGTH                112392 non-null  object        \n",
      " 28  NO.OF_INQUIRIES                      112392 non-null  int64         \n",
      "dtypes: category(1), datetime64[ns](2), float64(1), int64(22), object(3)\n",
      "memory usage: 24.1+ MB\n",
      "None\n"
     ]
    }
   ],
   "source": [
    "# Final Adjustments for cleaned_car_prices\n",
    "cleaned_car_prices['make'].fillna(cleaned_car_prices['make'].mode()[0], inplace=True)\n",
    "cleaned_car_prices['transmission'].fillna(cleaned_car_prices['transmission'].mode()[0], inplace=True)\n",
    "cleaned_car_prices['condition'].fillna(cleaned_car_prices['condition'].median(), inplace=True)\n",
    "# Convert to category\n",
    "categorical_cols = ['make', 'model', 'transmission', 'state', 'color', 'interior']\n",
    "for col in categorical_cols:\n",
    "    cleaned_car_prices[col] = cleaned_car_prices[col].astype('category')\n",
    "\n",
    "# Drop columns with high percentage of missing values if not needed\n",
    "# cleaned_car_prices.drop(['trim', 'body'], axis=1, inplace=True)\n",
    "\n",
    "# Final Adjustments for cleaned_loan_data\n",
    "cleaned_loan_data['Date.of.Birth'] = pd.to_datetime(cleaned_loan_data['Date.of.Birth'])\n",
    "cleaned_loan_data['DisbursalDate'] = pd.to_datetime(cleaned_loan_data['DisbursalDate'])\n",
    "cleaned_loan_data['Employment.Type'] = cleaned_loan_data['Employment.Type'].astype('category')\n",
    "\n",
    "# Verify changes\n",
    "print(cleaned_car_prices.info())\n",
    "print(cleaned_loan_data.info())\n"
   ]
  },
  {
   "cell_type": "code",
   "execution_count": 48,
   "id": "215b8b90",
   "metadata": {},
   "outputs": [],
   "source": [
    "# Assuming cleaned_car_prices and cleaned_loan_data are your cleaned DataFrames\n",
    "\n",
    "# Save the final cleaned car_prices dataset to a CSV file (version 3)\n",
    "cleaned_car_prices.to_csv(\"C:\\\\Users\\\\harip\\\\OneDrive\\\\Desktop\\\\Data analytics\\\\data engg\\\\assessment 2\\\\kaggle data\\\\cleaned_data\\\\final_cleaned_car_prices_v3.csv\", index=False)\n",
    "\n",
    "# Save the final cleaned loan_data dataset to a CSV file (version 3)\n",
    "cleaned_loan_data.to_csv(\"C:\\\\Users\\\\harip\\\\OneDrive\\\\Desktop\\\\Data analytics\\\\data engg\\\\assessment 2\\\\kaggle data\\\\cleaned_data\\\\final_cleaned_loan_data_v3.csv\", index=False)\n"
   ]
  },
  {
   "cell_type": "code",
   "execution_count": null,
   "id": "42723960",
   "metadata": {},
   "outputs": [],
   "source": [
    "loan_data_columns = loan_data.columns.tolist()\n",
    "car_prices_columns = car_prices.columns.tolist()\n",
    "\n",
    "print(\"Loan Data Columns:\", loan_data_columns)\n",
    "print(\"Car Prices Columns:\", car_prices_columns)\n"
   ]
  }
 ],
 "metadata": {
  "kernelspec": {
   "display_name": "Python 3 (ipykernel)",
   "language": "python",
   "name": "python3"
  },
  "language_info": {
   "codemirror_mode": {
    "name": "ipython",
    "version": 3
   },
   "file_extension": ".py",
   "mimetype": "text/x-python",
   "name": "python",
   "nbconvert_exporter": "python",
   "pygments_lexer": "ipython3",
   "version": "3.11.5"
  }
 },
 "nbformat": 4,
 "nbformat_minor": 5
}
