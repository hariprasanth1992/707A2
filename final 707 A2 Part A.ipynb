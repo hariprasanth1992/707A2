{
 "cells": [
  {
   "cell_type": "code",
   "execution_count": 1,
   "id": "acefb0e7",
   "metadata": {},
   "outputs": [],
   "source": [
    "import pandas as pd\n",
    "\n",
    "car_prices = pd.read_csv(\"C:\\\\Users\\\\harip\\\\OneDrive\\\\Desktop\\\\Data analytics\\\\data engg\\\\assessment 2\\\\kaggle data\\\\cleaned_data\\\\final_cleaned_car_prices_v3.csv\")\n",
    "car_sales_data = pd.read_csv(\"C:\\\\Users\\\\harip\\\\OneDrive\\\\Desktop\\\\Data analytics\\\\data engg\\\\assessment 2\\\\kaggle data\\\\dataset\\\\car_sales_data.csv\")\n"
   ]
  },
  {
   "cell_type": "code",
   "execution_count": 2,
   "id": "0986b332",
   "metadata": {},
   "outputs": [
    {
     "name": "stdout",
     "output_type": "stream",
     "text": [
      "   year   make                model        trim   body transmission  \\\n",
      "0  2015    Kia              Sorento          LX    SUV    automatic   \n",
      "1  2015    Kia              Sorento          LX    SUV    automatic   \n",
      "2  2014    BMW             3 Series  328i SULEV  Sedan    automatic   \n",
      "3  2015  Volvo                  S60          T5  Sedan    automatic   \n",
      "4  2014    BMW  6 Series Gran Coupe        650i  Sedan    automatic   \n",
      "\n",
      "                 vin state  condition  odometer  color interior  \\\n",
      "0  5xyktca69fg566472    ca        5.0   16639.0  white    black   \n",
      "1  5xyktca69fg561319    ca        5.0    9393.0  white    beige   \n",
      "2  wba3c1c51ek116351    ca       45.0    1331.0   gray    black   \n",
      "3  yv1612tb4f1310987    ca       41.0   14282.0  white    black   \n",
      "4  wba6b2c57ed129731    ca       43.0    2641.0   gray    black   \n",
      "\n",
      "                                   seller      mmr  sellingprice  \\\n",
      "0                 kia motors america  inc  20500.0       21500.0   \n",
      "1                 kia motors america  inc  20800.0       21500.0   \n",
      "2  financial services remarketing (lease)  31900.0       30000.0   \n",
      "3                 volvo na rep/world omni  27500.0       27750.0   \n",
      "4  financial services remarketing (lease)  66000.0       67000.0   \n",
      "\n",
      "                                  saledate  \n",
      "0  Tue Dec 16 2014 12:30:00 GMT-0800 (PST)  \n",
      "1  Tue Dec 16 2014 12:30:00 GMT-0800 (PST)  \n",
      "2  Thu Jan 15 2015 04:30:00 GMT-0800 (PST)  \n",
      "3  Thu Jan 29 2015 04:30:00 GMT-0800 (PST)  \n",
      "4  Thu Dec 18 2014 12:30:00 GMT-0800 (PST)  \n",
      "         Date      Salesperson   Customer Name Car Make  Car Model  Car Year  \\\n",
      "0  2022-08-01  Monica Moore MD     Mary Butler   Nissan     Altima      2018   \n",
      "1  2023-03-15     Roberto Rose  Richard Pierce   Nissan      F-150      2016   \n",
      "2  2023-04-29     Ashley Ramos    Sandra Moore     Ford      Civic      2016   \n",
      "3  2022-09-04   Patrick Harris    Johnny Scott     Ford     Altima      2013   \n",
      "4  2022-06-16       Eric Lopez   Vanessa Jones    Honda  Silverado      2022   \n",
      "\n",
      "   Sale Price  Commission Rate  Commission Earned  \n",
      "0       15983         0.070495            1126.73  \n",
      "1       38474         0.134439            5172.40  \n",
      "2       33340         0.114536            3818.63  \n",
      "3       41937         0.092191            3866.20  \n",
      "4       20256         0.113490            2298.85  \n"
     ]
    }
   ],
   "source": [
    "print(car_prices.head())\n",
    "print(car_sales_data.head())\n"
   ]
  },
  {
   "cell_type": "code",
   "execution_count": 3,
   "id": "7b31e749",
   "metadata": {},
   "outputs": [
    {
     "name": "stdout",
     "output_type": "stream",
     "text": [
      "['year', 'make', 'model', 'trim', 'body', 'transmission', 'vin', 'state', 'condition', 'odometer', 'color', 'interior', 'seller', 'mmr', 'sellingprice', 'saledate']\n",
      "['Date', 'Salesperson', 'Customer Name', 'Car Make', 'Car Model', 'Car Year', 'Sale Price', 'Commission Rate', 'Commission Earned']\n"
     ]
    }
   ],
   "source": [
    "print(car_prices.columns.tolist())\n",
    "print(car_sales_data.columns.tolist())\n"
   ]
  },
  {
   "cell_type": "code",
   "execution_count": 5,
   "id": "c0796a24",
   "metadata": {},
   "outputs": [],
   "source": [
    "# Renaming columns in car_sales_data to match those in car_prices\n",
    "car_sales_data.rename(columns={\n",
    "    'Car Make': 'make',\n",
    "    'Car Model': 'model',\n",
    "    'Car Year': 'year',\n",
    "    'Sale Price': 'sale_price'\n",
    "}, inplace=True)\n"
   ]
  },
  {
   "cell_type": "code",
   "execution_count": 6,
   "id": "6f0d3fe9",
   "metadata": {},
   "outputs": [],
   "source": [
    "# Convert 'year' to string if not already, to prevent any merge issues due to data type mismatches\n",
    "car_prices['year'] = car_prices['year'].astype(str)\n",
    "car_sales_data['year'] = car_sales_data['year'].astype(str)\n"
   ]
  },
  {
   "cell_type": "code",
   "execution_count": 7,
   "id": "c0feb21b",
   "metadata": {},
   "outputs": [],
   "source": [
    "# Handling missing values for key columns (example)\n",
    "car_prices['make'].fillna('Unknown', inplace=True)\n",
    "car_sales_data['make'].fillna('Unknown', inplace=True)\n",
    "\n",
    "car_prices['model'].fillna('Unknown', inplace=True)\n",
    "car_sales_data['model'].fillna('Unknown', inplace=True)\n",
    "\n",
    "# You might also want to fill or drop missing values for 'year' or any other columns deemed important\n"
   ]
  },
  {
   "cell_type": "code",
   "execution_count": 8,
   "id": "f34b0428",
   "metadata": {},
   "outputs": [],
   "source": [
    "car_prices.drop_duplicates(subset=['vin'], inplace=True)  # Assuming 'vin' is a unique identifier\n",
    "car_sales_data.drop_duplicates(subset=['Date', 'Salesperson', 'Customer Name'], inplace=True)  # Composite key example\n"
   ]
  },
  {
   "cell_type": "code",
   "execution_count": 9,
   "id": "a6f868fd",
   "metadata": {},
   "outputs": [],
   "source": [
    "# Example for 'make' and 'model' columns\n",
    "car_prices['make'] = car_prices['make'].str.strip().str.lower()\n",
    "car_sales_data['make'] = car_sales_data['make'].str.strip().str.lower()\n",
    "\n",
    "car_prices['model'] = car_prices['model'].str.strip().str.lower()\n",
    "car_sales_data['model'] = car_sales_data['model'].str.strip().str.lower()\n"
   ]
  },
  {
   "cell_type": "code",
   "execution_count": 10,
   "id": "8a5aecb1",
   "metadata": {},
   "outputs": [
    {
     "name": "stdout",
     "output_type": "stream",
     "text": [
      "year                0\n",
      "make                0\n",
      "model               0\n",
      "trim            10451\n",
      "body            12987\n",
      "transmission        0\n",
      "vin                 1\n",
      "state               0\n",
      "condition           0\n",
      "odometer           88\n",
      "color             744\n",
      "interior          744\n",
      "seller              0\n",
      "mmr                14\n",
      "sellingprice       12\n",
      "saledate           12\n",
      "dtype: int64\n",
      "Date                 0\n",
      "Salesperson          0\n",
      "Customer Name        0\n",
      "make                 0\n",
      "model                0\n",
      "year                 0\n",
      "sale_price           0\n",
      "Commission Rate      0\n",
      "Commission Earned    0\n",
      "dtype: int64\n",
      "   year   make                model        trim   body transmission  \\\n",
      "0  2015    kia              sorento          LX    SUV    automatic   \n",
      "1  2015    kia              sorento          LX    SUV    automatic   \n",
      "2  2014    bmw             3 series  328i SULEV  Sedan    automatic   \n",
      "3  2015  volvo                  s60          T5  Sedan    automatic   \n",
      "4  2014    bmw  6 series gran coupe        650i  Sedan    automatic   \n",
      "\n",
      "                 vin state  condition  odometer  color interior  \\\n",
      "0  5xyktca69fg566472    ca        5.0   16639.0  white    black   \n",
      "1  5xyktca69fg561319    ca        5.0    9393.0  white    beige   \n",
      "2  wba3c1c51ek116351    ca       45.0    1331.0   gray    black   \n",
      "3  yv1612tb4f1310987    ca       41.0   14282.0  white    black   \n",
      "4  wba6b2c57ed129731    ca       43.0    2641.0   gray    black   \n",
      "\n",
      "                                   seller      mmr  sellingprice  \\\n",
      "0                 kia motors america  inc  20500.0       21500.0   \n",
      "1                 kia motors america  inc  20800.0       21500.0   \n",
      "2  financial services remarketing (lease)  31900.0       30000.0   \n",
      "3                 volvo na rep/world omni  27500.0       27750.0   \n",
      "4  financial services remarketing (lease)  66000.0       67000.0   \n",
      "\n",
      "                                  saledate  \n",
      "0  Tue Dec 16 2014 12:30:00 GMT-0800 (PST)  \n",
      "1  Tue Dec 16 2014 12:30:00 GMT-0800 (PST)  \n",
      "2  Thu Jan 15 2015 04:30:00 GMT-0800 (PST)  \n",
      "3  Thu Jan 29 2015 04:30:00 GMT-0800 (PST)  \n",
      "4  Thu Dec 18 2014 12:30:00 GMT-0800 (PST)  \n",
      "         Date      Salesperson   Customer Name    make      model  year  \\\n",
      "0  2022-08-01  Monica Moore MD     Mary Butler  nissan     altima  2018   \n",
      "1  2023-03-15     Roberto Rose  Richard Pierce  nissan      f-150  2016   \n",
      "2  2023-04-29     Ashley Ramos    Sandra Moore    ford      civic  2016   \n",
      "3  2022-09-04   Patrick Harris    Johnny Scott    ford     altima  2013   \n",
      "4  2022-06-16       Eric Lopez   Vanessa Jones   honda  silverado  2022   \n",
      "\n",
      "   sale_price  Commission Rate  Commission Earned  \n",
      "0       15983         0.070495            1126.73  \n",
      "1       38474         0.134439            5172.40  \n",
      "2       33340         0.114536            3818.63  \n",
      "3       41937         0.092191            3866.20  \n",
      "4       20256         0.113490            2298.85  \n"
     ]
    }
   ],
   "source": [
    "# Checking for missing values again\n",
    "print(car_prices.isnull().sum())\n",
    "print(car_sales_data.isnull().sum())\n",
    "\n",
    "# Previewing the datasets to confirm changes\n",
    "print(car_prices.head())\n",
    "print(car_sales_data.head())\n"
   ]
  },
  {
   "cell_type": "code",
   "execution_count": 11,
   "id": "ef8fe846",
   "metadata": {},
   "outputs": [],
   "source": [
    "car_sales_data['year'] = car_sales_data['year'].astype(str)\n"
   ]
  },
  {
   "cell_type": "code",
   "execution_count": 12,
   "id": "7e1e1d18",
   "metadata": {},
   "outputs": [],
   "source": [
    "# Assuming 'sale_price' is critical, fill missing values with the median or mean, based on distribution\n",
    "car_sales_data['sale_price'].fillna(car_sales_data['sale_price'].median(), inplace=True)\n",
    "\n"
   ]
  },
  {
   "cell_type": "code",
   "execution_count": 13,
   "id": "66039a6a",
   "metadata": {},
   "outputs": [],
   "source": [
    "car_sales_data.drop_duplicates(inplace=True)\n"
   ]
  },
  {
   "cell_type": "code",
   "execution_count": 14,
   "id": "9eeddafc",
   "metadata": {},
   "outputs": [],
   "source": [
    "car_sales_data['make'] = car_sales_data['make'].str.lower().str.strip()\n",
    "car_sales_data['model'] = car_sales_data['model'].str.lower().str.strip()\n"
   ]
  },
  {
   "cell_type": "code",
   "execution_count": 15,
   "id": "5f2b35b1",
   "metadata": {},
   "outputs": [],
   "source": [
    "car_sales_data['Date'] = pd.to_datetime(car_sales_data['Date'], errors='coerce')\n"
   ]
  },
  {
   "cell_type": "code",
   "execution_count": 17,
   "id": "7c07a865",
   "metadata": {},
   "outputs": [],
   "source": [
    "car_sales_data['year'] = car_sales_data['year'].astype('category')\n"
   ]
  },
  {
   "cell_type": "code",
   "execution_count": 19,
   "id": "19f79533",
   "metadata": {},
   "outputs": [
    {
     "name": "stdout",
     "output_type": "stream",
     "text": [
      "Date                 datetime64[ns]\n",
      "Salesperson                  object\n",
      "Customer Name                object\n",
      "make                       category\n",
      "model                      category\n",
      "year                       category\n",
      "sale_price                    int64\n",
      "Commission Rate             float64\n",
      "Commission Earned           float64\n",
      "dtype: object\n"
     ]
    }
   ],
   "source": [
    "car_sales_data['make'] = car_sales_data['make'].astype('category')\n",
    "car_sales_data['model'] = car_sales_data['model'].astype('category')\n",
    "\n",
    "# Verify changes by inspecting data types again\n",
    "print(car_sales_data.dtypes)\n"
   ]
  },
  {
   "cell_type": "code",
   "execution_count": 18,
   "id": "4c20b78f",
   "metadata": {},
   "outputs": [
    {
     "name": "stdout",
     "output_type": "stream",
     "text": [
      "<class 'pandas.core.frame.DataFrame'>\n",
      "Index: 2499999 entries, 0 to 2499999\n",
      "Data columns (total 9 columns):\n",
      " #   Column             Dtype         \n",
      "---  ------             -----         \n",
      " 0   Date               datetime64[ns]\n",
      " 1   Salesperson        object        \n",
      " 2   Customer Name      object        \n",
      " 3   make               object        \n",
      " 4   model              object        \n",
      " 5   year               category      \n",
      " 6   sale_price         int64         \n",
      " 7   Commission Rate    float64       \n",
      " 8   Commission Earned  float64       \n",
      "dtypes: category(1), datetime64[ns](1), float64(2), int64(1), object(4)\n",
      "memory usage: 174.0+ MB\n",
      "None\n",
      "                                Date    sale_price  Commission Rate  \\\n",
      "count                        2499999  2.499999e+06     2.499999e+06   \n",
      "mean   2022-10-30 10:01:28.050275328  3.001218e+04     9.998764e-02   \n",
      "min              2022-05-01 00:00:00  1.000000e+04     5.000014e-02   \n",
      "25%              2022-07-31 00:00:00  2.001900e+04     7.496449e-02   \n",
      "50%              2022-10-30 00:00:00  3.000600e+04     1.000058e-01   \n",
      "75%              2023-01-30 00:00:00  4.002200e+04     1.250064e-01   \n",
      "max              2023-05-01 00:00:00  5.000000e+04     1.500000e-01   \n",
      "std                              NaN  1.154514e+04     2.887202e-02   \n",
      "\n",
      "       Commission Earned  \n",
      "count       2.499999e+06  \n",
      "mean        3.001004e+03  \n",
      "min         5.013400e+02  \n",
      "25%         1.821710e+03  \n",
      "50%         2.741910e+03  \n",
      "75%         3.978135e+03  \n",
      "max         7.494530e+03  \n",
      "std         1.481467e+03  \n"
     ]
    }
   ],
   "source": [
    "print(car_sales_data.info())\n",
    "print(car_sales_data.describe())\n"
   ]
  },
  {
   "cell_type": "code",
   "execution_count": 20,
   "id": "a2bdfff4",
   "metadata": {},
   "outputs": [
    {
     "name": "stdout",
     "output_type": "stream",
     "text": [
      "Missing Values:\n",
      " Date                 0\n",
      "Salesperson          0\n",
      "Customer Name        0\n",
      "make                 0\n",
      "model                0\n",
      "year                 0\n",
      "sale_price           0\n",
      "Commission Rate      0\n",
      "Commission Earned    0\n",
      "dtype: int64\n",
      "\n",
      "Data Types:\n",
      " Date                 datetime64[ns]\n",
      "Salesperson                  object\n",
      "Customer Name                object\n",
      "make                       category\n",
      "model                      category\n",
      "year                       category\n",
      "sale_price                    int64\n",
      "Commission Rate             float64\n",
      "Commission Earned           float64\n",
      "dtype: object\n"
     ]
    }
   ],
   "source": [
    "# Check for missing values\n",
    "missing_values = car_sales_data.isnull().sum()\n",
    "\n",
    "# Check data types\n",
    "data_types = car_sales_data.dtypes\n",
    "\n",
    "print(\"Missing Values:\\n\", missing_values)\n",
    "print(\"\\nData Types:\\n\", data_types)\n"
   ]
  },
  {
   "cell_type": "code",
   "execution_count": 21,
   "id": "c83c14fc",
   "metadata": {},
   "outputs": [],
   "source": [
    "import pandas as pd\n",
    "\n",
    "# Your cleaned DataFrame\n",
    "cleaned_car_sales_data = car_sales_data.copy()\n",
    "\n",
    "# Save the cleaned data to a new CSV file\n",
    "cleaned_car_sales_data.to_csv('cleaned_car_sales_data.csv', index=False)\n",
    "\n",
    "# Optionally, you can also save it to an Excel file\n",
    "# cleaned_car_sales_data.to_excel('cleaned_car_sales_data.xlsx', index=False)\n"
   ]
  },
  {
   "cell_type": "code",
   "execution_count": null,
   "id": "e83ea272",
   "metadata": {},
   "outputs": [],
   "source": []
  }
 ],
 "metadata": {
  "kernelspec": {
   "display_name": "Python 3 (ipykernel)",
   "language": "python",
   "name": "python3"
  },
  "language_info": {
   "codemirror_mode": {
    "name": "ipython",
    "version": 3
   },
   "file_extension": ".py",
   "mimetype": "text/x-python",
   "name": "python",
   "nbconvert_exporter": "python",
   "pygments_lexer": "ipython3",
   "version": "3.11.5"
  }
 },
 "nbformat": 4,
 "nbformat_minor": 5
}
